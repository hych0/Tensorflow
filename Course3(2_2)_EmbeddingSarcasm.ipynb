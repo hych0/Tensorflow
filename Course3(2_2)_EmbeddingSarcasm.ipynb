{
  "nbformat": 4,
  "nbformat_minor": 0,
  "metadata": {
    "accelerator": "GPU",
    "colab": {
      "name": "Course3(2_2)_EmbeddingSarcasm.ipynb",
      "provenance": [],
      "collapsed_sections": [],
      "include_colab_link": true
    },
    "kernelspec": {
      "display_name": "Python 3",
      "name": "python3"
    }
  },
  "cells": [
    {
      "cell_type": "markdown",
      "metadata": {
        "id": "view-in-github",
        "colab_type": "text"
      },
      "source": [
        "<a href=\"https://colab.research.google.com/github/98hychoo/Tensorflow/blob/main/Course3(2_2)_EmbeddingSarcasm.ipynb\" target=\"_parent\"><img src=\"https://colab.research.google.com/assets/colab-badge.svg\" alt=\"Open In Colab\"/></a>"
      ]
    },
    {
      "cell_type": "markdown",
      "metadata": {
        "id": "BHg9-KooZiA3"
      },
      "source": [
        "# Tweek the parameters to improve accuracy."
      ]
    },
    {
      "cell_type": "code",
      "metadata": {
        "id": "XYYDvoskkE61",
        "colab": {
          "base_uri": "https://localhost:8080/",
          "height": 1000
        },
        "outputId": "f3ee35a6-155d-44bc-b46c-9b1a3681cdb8"
      },
      "source": [
        "import json\n",
        "import tensorflow as tf\n",
        "\n",
        "from tensorflow.keras.preprocessing.text import Tokenizer\n",
        "from tensorflow.keras.preprocessing.sequence import pad_sequences\n",
        "\n",
        "# parameters\n",
        "vocab_size = 1600\n",
        "embedding_dim = 16\n",
        "max_length = 40\n",
        "trunc_type='post'\n",
        "padding_type='post'\n",
        "oov_tok = \"<OOV>\"\n",
        "training_size = 20000\n",
        "\n",
        "!wget --no-check-certificate \\\n",
        "    https://storage.googleapis.com/laurencemoroney-blog.appspot.com/sarcasm.json \\\n",
        "    -O /tmp/sarcasm.json\n",
        "\n",
        "with open(\"/tmp/sarcasm.json\", 'r') as f:\n",
        "    datastore = json.load(f)\n",
        "\n",
        "sentences = []\n",
        "labels = []\n",
        "\n",
        "for item in datastore:\n",
        "    sentences.append(item['headline'])\n",
        "    labels.append(item['is_sarcastic'])\n",
        "\n",
        "training_sentences = sentences[0:training_size]\n",
        "testing_sentences = sentences[training_size:]\n",
        "training_labels = labels[0:training_size]\n",
        "testing_labels = labels[training_size:]\n",
        "\n",
        "tokenizer = Tokenizer(num_words=vocab_size, oov_token=oov_tok)\n",
        "tokenizer.fit_on_texts(training_sentences)\n",
        "\n",
        "word_index = tokenizer.word_index\n",
        "\n",
        "training_sequences = tokenizer.texts_to_sequences(training_sentences)\n",
        "training_padded = pad_sequences(training_sequences, maxlen=max_length, padding=padding_type, truncating=trunc_type)\n",
        "\n",
        "testing_sequences = tokenizer.texts_to_sequences(testing_sentences)\n",
        "testing_padded = pad_sequences(testing_sequences, maxlen=max_length, padding=padding_type, truncating=trunc_type)\n",
        "\n",
        "# Need this block to get it to work with TensorFlow 2.x\n",
        "import numpy as np\n",
        "training_padded = np.array(training_padded)\n",
        "training_labels = np.array(training_labels)\n",
        "testing_padded = np.array(testing_padded)\n",
        "testing_labels = np.array(testing_labels)\n",
        "\n",
        "model = tf.keras.Sequential([\n",
        "    tf.keras.layers.Embedding(vocab_size, embedding_dim, input_length=max_length),\n",
        "    tf.keras.layers.GlobalAveragePooling1D(),\n",
        "    tf.keras.layers.Dense(24, activation='relu'),\n",
        "    tf.keras.layers.Dense(1, activation='sigmoid')\n",
        "])\n",
        "model.compile(loss='binary_crossentropy',optimizer='adam',metrics=['accuracy'])\n",
        "\n",
        "model.summary()\n",
        "\n",
        "num_epochs = 30\n",
        "history = model.fit(training_padded, training_labels, epochs=num_epochs, validation_data=(testing_padded, testing_labels), verbose=2)\n",
        "\n",
        "import matplotlib.pyplot as plt\n",
        "\n",
        "def plot_graphs(history, string):\n",
        "  plt.plot(history.history[string])\n",
        "  plt.plot(history.history['val_'+string])\n",
        "  plt.xlabel(\"Epochs\")\n",
        "  plt.ylabel(string)\n",
        "  plt.legend([string, 'val_'+string])\n",
        "  plt.show()\n",
        "  \n",
        "plot_graphs(history, \"accuracy\")\n",
        "plot_graphs(history, \"loss\")\n",
        "\n"
      ],
      "execution_count": 9,
      "outputs": [
        {
          "output_type": "stream",
          "text": [
            "--2021-04-04 05:40:47--  https://storage.googleapis.com/laurencemoroney-blog.appspot.com/sarcasm.json\n",
            "Resolving storage.googleapis.com (storage.googleapis.com)... 74.125.142.128, 74.125.195.128, 74.125.20.128, ...\n",
            "Connecting to storage.googleapis.com (storage.googleapis.com)|74.125.142.128|:443... connected.\n",
            "HTTP request sent, awaiting response... 200 OK\n",
            "Length: 5643545 (5.4M) [application/json]\n",
            "Saving to: ‘/tmp/sarcasm.json’\n",
            "\n",
            "\r/tmp/sarcasm.json     0%[                    ]       0  --.-KB/s               \r/tmp/sarcasm.json   100%[===================>]   5.38M  --.-KB/s    in 0.02s   \n",
            "\n",
            "2021-04-04 05:40:47 (239 MB/s) - ‘/tmp/sarcasm.json’ saved [5643545/5643545]\n",
            "\n",
            "Model: \"sequential_7\"\n",
            "_________________________________________________________________\n",
            "Layer (type)                 Output Shape              Param #   \n",
            "=================================================================\n",
            "embedding_7 (Embedding)      (None, 40, 16)            25600     \n",
            "_________________________________________________________________\n",
            "global_average_pooling1d_7 ( (None, 16)                0         \n",
            "_________________________________________________________________\n",
            "dense_14 (Dense)             (None, 24)                408       \n",
            "_________________________________________________________________\n",
            "dense_15 (Dense)             (None, 1)                 25        \n",
            "=================================================================\n",
            "Total params: 26,033\n",
            "Trainable params: 26,033\n",
            "Non-trainable params: 0\n",
            "_________________________________________________________________\n",
            "Epoch 1/30\n",
            "625/625 - 2s - loss: 0.5973 - accuracy: 0.6679 - val_loss: 0.4564 - val_accuracy: 0.8044\n",
            "Epoch 2/30\n",
            "625/625 - 2s - loss: 0.3894 - accuracy: 0.8329 - val_loss: 0.3906 - val_accuracy: 0.8219\n",
            "Epoch 3/30\n",
            "625/625 - 1s - loss: 0.3470 - accuracy: 0.8480 - val_loss: 0.3810 - val_accuracy: 0.8261\n",
            "Epoch 4/30\n",
            "625/625 - 1s - loss: 0.3316 - accuracy: 0.8531 - val_loss: 0.3846 - val_accuracy: 0.8189\n",
            "Epoch 5/30\n",
            "625/625 - 1s - loss: 0.3223 - accuracy: 0.8577 - val_loss: 0.3855 - val_accuracy: 0.8216\n",
            "Epoch 6/30\n",
            "625/625 - 1s - loss: 0.3171 - accuracy: 0.8600 - val_loss: 0.3854 - val_accuracy: 0.8255\n",
            "Epoch 7/30\n",
            "625/625 - 1s - loss: 0.3141 - accuracy: 0.8597 - val_loss: 0.3925 - val_accuracy: 0.8238\n",
            "Epoch 8/30\n",
            "625/625 - 1s - loss: 0.3121 - accuracy: 0.8607 - val_loss: 0.3923 - val_accuracy: 0.8235\n",
            "Epoch 9/30\n",
            "625/625 - 1s - loss: 0.3108 - accuracy: 0.8633 - val_loss: 0.3936 - val_accuracy: 0.8231\n",
            "Epoch 10/30\n",
            "625/625 - 1s - loss: 0.3093 - accuracy: 0.8633 - val_loss: 0.3986 - val_accuracy: 0.8193\n",
            "Epoch 11/30\n",
            "625/625 - 1s - loss: 0.3077 - accuracy: 0.8637 - val_loss: 0.3988 - val_accuracy: 0.8213\n",
            "Epoch 12/30\n",
            "625/625 - 1s - loss: 0.3088 - accuracy: 0.8612 - val_loss: 0.4091 - val_accuracy: 0.8122\n",
            "Epoch 13/30\n",
            "625/625 - 1s - loss: 0.3070 - accuracy: 0.8629 - val_loss: 0.4047 - val_accuracy: 0.8214\n",
            "Epoch 14/30\n",
            "625/625 - 1s - loss: 0.3067 - accuracy: 0.8650 - val_loss: 0.4022 - val_accuracy: 0.8190\n",
            "Epoch 15/30\n",
            "625/625 - 1s - loss: 0.3067 - accuracy: 0.8638 - val_loss: 0.4039 - val_accuracy: 0.8219\n",
            "Epoch 16/30\n",
            "625/625 - 1s - loss: 0.3064 - accuracy: 0.8643 - val_loss: 0.4037 - val_accuracy: 0.8201\n",
            "Epoch 17/30\n",
            "625/625 - 1s - loss: 0.3050 - accuracy: 0.8643 - val_loss: 0.4036 - val_accuracy: 0.8196\n",
            "Epoch 18/30\n",
            "625/625 - 1s - loss: 0.3055 - accuracy: 0.8649 - val_loss: 0.4037 - val_accuracy: 0.8202\n",
            "Epoch 19/30\n",
            "625/625 - 1s - loss: 0.3053 - accuracy: 0.8653 - val_loss: 0.4036 - val_accuracy: 0.8198\n",
            "Epoch 20/30\n",
            "625/625 - 1s - loss: 0.3050 - accuracy: 0.8654 - val_loss: 0.4131 - val_accuracy: 0.8222\n",
            "Epoch 21/30\n",
            "625/625 - 1s - loss: 0.3044 - accuracy: 0.8658 - val_loss: 0.4051 - val_accuracy: 0.8201\n",
            "Epoch 22/30\n",
            "625/625 - 1s - loss: 0.3045 - accuracy: 0.8660 - val_loss: 0.4129 - val_accuracy: 0.8202\n",
            "Epoch 23/30\n",
            "625/625 - 1s - loss: 0.3044 - accuracy: 0.8653 - val_loss: 0.4056 - val_accuracy: 0.8186\n",
            "Epoch 24/30\n",
            "625/625 - 1s - loss: 0.3030 - accuracy: 0.8657 - val_loss: 0.4076 - val_accuracy: 0.8207\n",
            "Epoch 25/30\n",
            "625/625 - 1s - loss: 0.3031 - accuracy: 0.8670 - val_loss: 0.4125 - val_accuracy: 0.8143\n",
            "Epoch 26/30\n",
            "625/625 - 1s - loss: 0.3029 - accuracy: 0.8666 - val_loss: 0.4082 - val_accuracy: 0.8179\n",
            "Epoch 27/30\n",
            "625/625 - 1s - loss: 0.3025 - accuracy: 0.8672 - val_loss: 0.4060 - val_accuracy: 0.8199\n",
            "Epoch 28/30\n",
            "625/625 - 1s - loss: 0.3024 - accuracy: 0.8672 - val_loss: 0.4061 - val_accuracy: 0.8195\n",
            "Epoch 29/30\n",
            "625/625 - 1s - loss: 0.3023 - accuracy: 0.8670 - val_loss: 0.4051 - val_accuracy: 0.8198\n",
            "Epoch 30/30\n",
            "625/625 - 1s - loss: 0.3017 - accuracy: 0.8678 - val_loss: 0.4047 - val_accuracy: 0.8208\n"
          ],
          "name": "stdout"
        },
        {
          "output_type": "display_data",
          "data": {
            "image/png": "[encoded data removed]",
            "text/plain": [
              "<Figure size 432x288 with 1 Axes>"
            ]
          },
          "metadata": {
            "tags": [],
            "needs_background": "light"
          }
        },
        {
          "output_type": "display_data",
          "data": {
            "image/png": "[encoded data removed]",
            "text/plain": [
              "<Figure size 432x288 with 1 Axes>"
            ]
          },
          "metadata": {
            "tags": [],
            "needs_background": "light"
          }
        }
      ]
    },
    {
      "cell_type": "code",
      "metadata": {
        "colab": {
          "base_uri": "https://localhost:8080/",
          "height": 139
        },
        "id": "NAPXGc-aWodR",
        "outputId": "28793f0c-499a-4969-cd49-7fc4bb52b2e5"
      },
      "source": [
        "reverse_word_index = dict([(value, key) for (key, value) in word_index.items()])\n",
        "\n",
        "def decode_sentence(text):\n",
        "    return ' '.join([reverse_word_index.get(i, '?') for i in text])\n",
        "\n",
        "print(decode_sentence(training_padded[0]))\n",
        "print(training_sentences[2])\n",
        "print(labels[2])\n",
        "\n",
        "e = model.layers[0]\n",
        "weights = e.get_weights()[0]\n",
        "print(weights.shape) # shape: (vocab_size, embedding_dim)\n",
        "\n",
        "import io\n",
        "\n",
        "out_v = io.open('vecs.tsv', 'w', encoding='utf-8')\n",
        "out_m = io.open('meta.tsv', 'w', encoding='utf-8')\n",
        "for word_num in range(1, vocab_size):\n",
        "  word = reverse_word_index[word_num]\n",
        "  embeddings = weights[word_num]\n",
        "  out_m.write(word + \"\\n\")\n",
        "  out_v.write('\\t'.join([str(x) for x in embeddings]) + \"\\n\")\n",
        "out_v.close()\n",
        "out_m.close()\n",
        "\n",
        "try:\n",
        "  from google.colab import files\n",
        "except ImportError:\n",
        "  pass\n",
        "else:\n",
        "  files.download('vecs.tsv')\n",
        "  files.download('meta.tsv')\n",
        "\n",
        "sentence = [\"granny starting to fear spiders in the garden might be real\", \"game of thrones season finale showing this sunday night\"]\n",
        "sequences = tokenizer.texts_to_sequences(sentence)\n",
        "padded = pad_sequences(sequences, maxlen=max_length, padding=padding_type, truncating=trunc_type)\n",
        "print(model.predict(padded))"
      ],
      "execution_count": 7,
      "outputs": [
        {
          "output_type": "stream",
          "text": [
            "former <OOV> store <OOV> <OOV> over secret <OOV> <OOV> for <OOV> <OOV> ? ? ? ? ? ? ? ? ? ? ? ? ? ? ? ? ? ? ? ? ? ? ? ? ? ? ? ? ? ? ? ? ? ? ? ? ? ? ? ? ? ? ? ? ? ? ? ?\n",
            "mom starting to fear son's web series closest thing she will have to grandchild\n",
            "1\n",
            "(1600, 16)\n"
          ],
          "name": "stdout"
        },
        {
          "output_type": "display_data",
          "data": {
            "application/javascript": [
              "\n",
              "    async function download(id, filename, size) {\n",
              "      if (!google.colab.kernel.accessAllowed) {\n",
              "        return;\n",
              "      }\n",
              "      const div = document.createElement('div');\n",
              "      const label = document.createElement('label');\n",
              "      label.textContent = `Downloading \"${filename}\": `;\n",
              "      div.appendChild(label);\n",
              "      const progress = document.createElement('progress');\n",
              "      progress.max = size;\n",
              "      div.appendChild(progress);\n",
              "      document.body.appendChild(div);\n",
              "\n",
              "      const buffers = [];\n",
              "      let downloaded = 0;\n",
              "\n",
              "      const channel = await google.colab.kernel.comms.open(id);\n",
              "      // Send a message to notify the kernel that we're ready.\n",
              "      channel.send({})\n",
              "\n",
              "      for await (const message of channel.messages) {\n",
              "        // Send a message to notify the kernel that we're ready.\n",
              "        channel.send({})\n",
              "        if (message.buffers) {\n",
              "          for (const buffer of message.buffers) {\n",
              "            buffers.push(buffer);\n",
              "            downloaded += buffer.byteLength;\n",
              "            progress.value = downloaded;\n",
              "          }\n",
              "        }\n",
              "      }\n",
              "      const blob = new Blob(buffers, {type: 'application/binary'});\n",
              "      const a = document.createElement('a');\n",
              "      a.href = window.URL.createObjectURL(blob);\n",
              "      a.download = filename;\n",
              "      div.appendChild(a);\n",
              "      a.click();\n",
              "      div.remove();\n",
              "    }\n",
              "  "
            ],
            "text/plain": [
              "<IPython.core.display.Javascript object>"
            ]
          },
          "metadata": {
            "tags": []
          }
        },
        {
          "output_type": "display_data",
          "data": {
            "application/javascript": [
              "download(\"download_1fdaf49d-50ff-49f1-ba82-bddb9cb292b8\", \"vecs.tsv\", 293487)"
            ],
            "text/plain": [
              "<IPython.core.display.Javascript object>"
            ]
          },
          "metadata": {
            "tags": []
          }
        },
        {
          "output_type": "display_data",
          "data": {
            "application/javascript": [
              "\n",
              "    async function download(id, filename, size) {\n",
              "      if (!google.colab.kernel.accessAllowed) {\n",
              "        return;\n",
              "      }\n",
              "      const div = document.createElement('div');\n",
              "      const label = document.createElement('label');\n",
              "      label.textContent = `Downloading \"${filename}\": `;\n",
              "      div.appendChild(label);\n",
              "      const progress = document.createElement('progress');\n",
              "      progress.max = size;\n",
              "      div.appendChild(progress);\n",
              "      document.body.appendChild(div);\n",
              "\n",
              "      const buffers = [];\n",
              "      let downloaded = 0;\n",
              "\n",
              "      const channel = await google.colab.kernel.comms.open(id);\n",
              "      // Send a message to notify the kernel that we're ready.\n",
              "      channel.send({})\n",
              "\n",
              "      for await (const message of channel.messages) {\n",
              "        // Send a message to notify the kernel that we're ready.\n",
              "        channel.send({})\n",
              "        if (message.buffers) {\n",
              "          for (const buffer of message.buffers) {\n",
              "            buffers.push(buffer);\n",
              "            downloaded += buffer.byteLength;\n",
              "            progress.value = downloaded;\n",
              "          }\n",
              "        }\n",
              "      }\n",
              "      const blob = new Blob(buffers, {type: 'application/binary'});\n",
              "      const a = document.createElement('a');\n",
              "      a.href = window.URL.createObjectURL(blob);\n",
              "      a.download = filename;\n",
              "      div.appendChild(a);\n",
              "      a.click();\n",
              "      div.remove();\n",
              "    }\n",
              "  "
            ],
            "text/plain": [
              "<IPython.core.display.Javascript object>"
            ]
          },
          "metadata": {
            "tags": []
          }
        },
        {
          "output_type": "display_data",
          "data": {
            "application/javascript": [
              "download(\"download_630af2e9-0da6-4d67-9f2b-0dfc6d8a3582\", \"meta.tsv\", 10438)"
            ],
            "text/plain": [
              "<IPython.core.display.Javascript object>"
            ]
          },
          "metadata": {
            "tags": []
          }
        },
        {
          "output_type": "stream",
          "text": [
            "[[0.3420845 ]\n",
            " [0.03019411]]\n"
          ],
          "name": "stdout"
        }
      ]
    }
  ]
}